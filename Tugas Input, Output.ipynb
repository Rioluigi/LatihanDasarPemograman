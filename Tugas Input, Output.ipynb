{
  "nbformat": 4,
  "nbformat_minor": 0,
  "metadata": {
    "colab": {
      "provenance": [],
      "collapsed_sections": [],
      "toc_visible": true
    },
    "kernelspec": {
      "name": "python3",
      "display_name": "Python 3"
    },
    "language_info": {
      "name": "python"
    }
  },
  "cells": [
    {
      "cell_type": "code",
      "execution_count": 1,
      "metadata": {
        "colab": {
          "base_uri": "https://localhost:8080/"
        },
        "id": "W_AbdtJcB_ov",
        "outputId": "4a8d3fc4-a4c2-4917-b405-1494ab316d19"
      },
      "outputs": [
        {
          "name": "stdout",
          "output_type": "stream",
          "text": [
            "Rio Luigi Del Niery1\\\n"
          ]
        }
      ],
      "source": [
        " #BIODATA RIO\n",
        " Nama =input(\"Rio Luigi Del Nier\")"
      ]
    },
    {
      "cell_type": "code",
      "source": [
        "from google.colab import drive\n",
        "drive.mount('/content/drive')"
      ],
      "metadata": {
        "id": "QC4Q82JTE76n"
      },
      "execution_count": null,
      "outputs": []
    }
  ]
}