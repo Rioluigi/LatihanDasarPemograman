{
 "cells": [
  {
   "cell_type": "code",
   "execution_count": 27,
   "id": "74d47890",
   "metadata": {
    "scrolled": true
   },
   "outputs": [
    {
     "name": "stdout",
     "output_type": "stream",
     "text": [
      "=== Program Nilai ===\n",
      "Masukan NIlai : 80\n",
      "Selamat, Anda Lulus !\n"
     ]
    }
   ],
   "source": [
    "print (\"=== Program Nilai ===\")\n",
    "nilai = int(input(\"Masukan NIlai : \"))\n",
    "            \n",
    "if nilai >= 80:\n",
    " print (\"Selamat, Anda Lulus !\")\n",
    "else:\n",
    " print('Tetap semangat dan jangan menyerah')"
   ]
  },
  {
   "cell_type": "code",
   "execution_count": 37,
   "id": "5b031944",
   "metadata": {},
   "outputs": [
    {
     "name": "stdout",
     "output_type": "stream",
     "text": [
      "Variabel a lebih besar dari VAriable b\n"
     ]
    }
   ],
   "source": [
    "a = 100\n",
    "b = 30\n",
    "if a > b:\n",
    "    print('Variabel a lebih besar dari VAriable b')"
   ]
  },
  {
   "cell_type": "code",
   "execution_count": 43,
   "id": "ee03d9d5",
   "metadata": {},
   "outputs": [
    {
     "name": "stdout",
     "output_type": "stream",
     "text": [
      "==== Login =====\n",
      "Masukan Password:Dasar Pemograman\n",
      "Selamat Datang di Aplikasi\n",
      "TerimaKasih Telah Mempercayakan pada Aplikasi Kami\n"
     ]
    }
   ],
   "source": [
    "print('==== Login =====')\n",
    "password = input('Masukan Password:')\n",
    "if password == 'Dasar Pemograman':\n",
    " print ('Selamat Datang di Aplikasi')\n",
    "else :\n",
    "    print ('Password Salah, Coba lagi!')\n",
    "    \n",
    "print('TerimaKasih Telah Mempercayakan pada Aplikasi Kami')"
   ]
  },
  {
   "cell_type": "code",
   "execution_count": 49,
   "id": "78eef28b",
   "metadata": {},
   "outputs": [
    {
     "name": "stdout",
     "output_type": "stream",
     "text": [
      "==== Program Grade Nilai ====\n",
      "inputkan nilai akhir: 85\n",
      "Grade Anda:  B+\n"
     ]
    }
   ],
   "source": [
    "print('==== Program Grade Nilai ====')\n",
    "nilai = int(input('inputkan nilai akhir: '))\n",
    "if nilai >= 90:\n",
    "    grade = 'A'\n",
    "elif nilai >= 80:\n",
    "    grade = 'B+'\n",
    "elif nilai >= 70:\n",
    "    grade = 'B'\n",
    "elif nilai >= 60:\n",
    "    grade = 'C+'\n",
    "elif nilai >= 50:\n",
    "    grade = 'C'\n",
    "elif nilai >= 40:\n",
    "    grade = 'D'\n",
    "elif nilai >= 30:\n",
    "    grade = 'E'\n",
    "else:\n",
    "    grade = 'F'\n",
    "print ('Grade Anda: ', grade)"
   ]
  },
  {
   "cell_type": "code",
   "execution_count": 50,
   "id": "459f18af",
   "metadata": {
    "scrolled": true
   },
   "outputs": [
    {
     "name": "stdout",
     "output_type": "stream",
     "text": [
      "Menentukan Kelulusan\n",
      "Nama Mahasiswa: Siti Betrix\n",
      "Masukan Nilai UTS: 80\n",
      "Masukan Nilai UAS: 50\n",
      "Siti Betrix Anda Belum Lulus,no coment itu sih derita loh\n"
     ]
    }
   ],
   "source": [
    "#Nested IF\n",
    "print('Menentukan Kelulusan')\n",
    "nama = input('Nama Mahasiswa: ')\n",
    "nilai_uts = int(input('Masukan Nilai UTS: '))\n",
    "nilai_uas = int(input('Masukan Nilai UAS: '))\n",
    "if nilai_uas >= 60:\n",
    "    if nilai_uts >= 50:\n",
    "        print('Selamat',nama,'Anda Lulus')\n",
    "    else:\n",
    "        print(nama,'Lulus, lebih giat belajar ya')\n",
    "else:\n",
    "    print(nama,'Anda Belum Lulus,no coment itu sih derita loh')"
   ]
  },
  {
   "cell_type": "code",
   "execution_count": 53,
   "id": "44af53d6",
   "metadata": {
    "scrolled": true
   },
   "outputs": [
    {
     "name": "stdout",
     "output_type": "stream",
     "text": [
      "Menentukan Kelulusan\n",
      "Nama Mahasiswa: ujang guludug\n",
      "Masukan Nilai UTS: 70\n",
      "Masukan Nilai UAS: 60\n",
      "Selamat ujang guludug Anda Lulus\n"
     ]
    }
   ],
   "source": [
    "#Nested IF\n",
    "print('Menentukan Kelulusan')\n",
    "nama = input('Nama Mahasiswa: ')\n",
    "nilai_uts = int(input('Masukan Nilai UTS: '))\n",
    "nilai_uas = int(input('Masukan Nilai UAS: '))\n",
    "if nilai_uas >= 60:\n",
    "    if nilai_uts >= 50:\n",
    "        print('Selamat',nama,'Anda Lulus')\n",
    "    else:\n",
    "        print(nama,'Lulus, lebih giat belajar ya')\n",
    "else:\n",
    "    print(nama,'Anda Belum Lulus,no coment itu sih derita loh')"
   ]
  },
  {
   "cell_type": "code",
   "execution_count": null,
   "id": "e335c8fe",
   "metadata": {},
   "outputs": [
    {
     "name": "stdout",
     "output_type": "stream",
     "text": [
      "==== Program Grade Nilai ====\n"
     ]
    }
   ],
   "source": [
    "print('==== Program Grade Nilai ====')\n",
    "nilai = int(input('inputkan nilai akhir: '))\n",
    "if nilai >= 100:\n",
    "    grade = 'A'\n",
    "    Predikat = 'Mantap Anda Pintar'\n",
    "elif nilai >= 89:\n",
    "    grade = 'B'\n",
    "    Predikat ='Sangat Memuaskan'\n",
    "elif nilai >= 79:\n",
    "    grade = 'C'\n",
    "    Predikat = 'Puas'\n",
    "elif nilai >= 69:\n",
    "    grade = 'D'\n",
    "    Predikat = 'Tidak Memuaskan'\n",
    "elif nilai >= 59:\n",
    "    grade = 'E'\n",
    "    Predikat = 'NT'\n",
    "else:\n",
    "    grade = 'f'\n",
    "print ('Grade Anda: ', grade)\n",
    "print ('Predikat: ', Predikat)"
   ]
  },
  {
   "cell_type": "code",
   "execution_count": null,
   "id": "6311bc13",
   "metadata": {},
   "outputs": [],
   "source": []
  },
  {
   "cell_type": "code",
   "execution_count": null,
   "id": "6249188a",
   "metadata": {},
   "outputs": [],
   "source": []
  }
 ],
 "metadata": {
  "kernelspec": {
   "display_name": "Python 3 (ipykernel)",
   "language": "python",
   "name": "python3"
  },
  "language_info": {
   "codemirror_mode": {
    "name": "ipython",
    "version": 3
   },
   "file_extension": ".py",
   "mimetype": "text/x-python",
   "name": "python",
   "nbconvert_exporter": "python",
   "pygments_lexer": "ipython3",
   "version": "3.9.12"
  }
 },
 "nbformat": 4,
 "nbformat_minor": 5
}
