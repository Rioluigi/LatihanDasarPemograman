{
 "cells": [
  {
   "cell_type": "code",
   "execution_count": 12,
   "metadata": {},
   "outputs": [
    {
     "name": "stdout",
     "output_type": "stream",
     "text": [
      "100 Predikat A Dengan Pujian\n"
     ]
    }
   ],
   "source": [
    "#MEMECAHKAN MASALAH PEMOGRAMAN iF, Elif, and Else.\n",
    "nilai = int(input('Masukkan nilai: '))\n",
    "if nilai >= 90:\n",
    "  print(nilai,'Predikat A', 'Dengan Pujian')\n",
    "  for nilai in range(90-100):\n",
    "      print (nilai, 'Dengan Pujian')\n",
    "elif nilai >= 80:\n",
    "  print(nilai,'Predikat B', 'Sangat Memuaskan')\n",
    "  for nilai in range(80-89):\n",
    "      print (nilai, 'Sangat Memuaskan')\n",
    "elif nilai >= 70:\n",
    "  print(nilai,'Predikat C', 'Memuaskan')\n",
    "  for nilai in range(70-79):\n",
    "      print (nilai, 'Memuaskan')\n",
    "elif nilai >= 60:\n",
    "  print(nilai,'Predikat D', 'Tidak Memuaskan')\n",
    "  for nilai in range(60-69):\n",
    "      print (nilai, 'Tidak Memuaskan')\n",
    "else:\n",
    "  print(nilai,'Predikat E', 'Tidak LULUS')\n",
    "  for nilai in range(0-59):\n",
    "      print (nilai, 'Tidak LULUS')"
   ]
  },
  {
   "cell_type": "code",
   "execution_count": 11,
   "metadata": {},
   "outputs": [
    {
     "name": "stdout",
     "output_type": "stream",
     "text": [
      "100 Predikat A Dengan pujian\n"
     ]
    }
   ],
   "source": [
    "#Antisipasi Kesalahan Pemograman\n",
    "is_nilai = True\n",
    "input_Nama= \"Masukan nilai : \"\n",
    "\n",
    "while is_nilai:\n",
    "\n",
    "    nilai = input(input_Nama)\n",
    "\n",
    "    if not nilai.isdigit():\n",
    "        input_Nama = \"Data tidak ditemukan,Masukan kembali nilainya : \"\n",
    "        continue\n",
    "\n",
    "    nilai=int(nilai)\n",
    "\n",
    "    if nilai not in range(101):\n",
    "        input_Nama = \"Data tidak ditemukan,Masukan kembali nilainya : \"\n",
    "        continue\n",
    "\n",
    "    if nilai>=90:\n",
    "        print(nilai,'Predikat A','Dengan pujian')\n",
    "    elif nilai>=80:\n",
    "        print(nilai,'Predikat B','Sangat memuaskan')\n",
    "    elif nilai>=70:\n",
    "        print(nilai,'Predikat C','memuaskan')\n",
    "    elif nilai>=40:\n",
    "        print(nilai,'Predikat C',' Tidak memuaskan')\n",
    "    elif nilai>=0:\n",
    "        print(nilai,'Predikat E',' Tidak Lulus')\n",
    "    is_nilai =  False"
   ]
  }
 ],
 "metadata": {
  "kernelspec": {
   "display_name": "Python 3.9.12 ('base')",
   "language": "python",
   "name": "python3"
  },
  "language_info": {
   "codemirror_mode": {
    "name": "ipython",
    "version": 3
   },
   "file_extension": ".py",
   "mimetype": "text/x-python",
   "name": "python",
   "nbconvert_exporter": "python",
   "pygments_lexer": "ipython3",
   "version": "3.9.12"
  },
  "orig_nbformat": 4,
  "vscode": {
   "interpreter": {
    "hash": "727f71a15f8540c2e93ea9539792c55aba41bb8cdbc3f298db089220b5c9c0aa"
   }
  }
 },
 "nbformat": 4,
 "nbformat_minor": 2
}
