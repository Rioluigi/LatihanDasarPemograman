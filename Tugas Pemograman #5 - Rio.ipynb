{
  "cells": [
    {
      "cell_type": "code",
      "execution_count": 5,
      "metadata": {},
      "outputs": [
        {
          "name": "stdout",
          "output_type": "stream",
          "text": [
            "BIODATA\n",
            "______________________________\n",
            "Nama: Rio Luigi Del Niery\n",
            "Alamat: Cibolang Kaler Rt/Rw 18/04\n",
            "Ttl: Sukabumi 23 Desember 2003\n",
            "Pekerjaan: Mahasiswa\n",
            "Umur: 18\n",
            "Badminton & Belajar Ilmu Komputer\n",
            "Status: Belum Menikah\n",
            "Nim:20220040120\n",
            "______________________________\n"
          ]
        }
      ],
      "source": [
        "#BIODATA \n",
        "#TIPE INPUT\n",
        "nama = input('Rio Luigi Del Niery')\n",
        "alamat = input('Cibolang Klaer Rt/Rw 18/04')\n",
        "ttl = input('Sukabumi 23 Desember 2003')\n",
        "pekerjaan = input('Mahasiswa')\n",
        "Umur = input('18')\n",
        "hobby = input('Badminton dan belajar ilmu komputer')\n",
        "Status =input('Bujang')\n",
        "Nim = input('20220040120')\n",
        "\n",
        "print('BIODATA')\n",
        "print('______________________________')\n",
        "print('Nama: Rio Luigi Del Niery')\n",
        "print('Alamat: Cibolang Kaler Rt/Rw 18/04')\n",
        "print('Ttl: Sukabumi 23 Desember 2003')\n",
        "print('Pekerjaan: Mahasiswa')\n",
        "print('Umur: 18')\n",
        "print('Badminton & Belajar Ilmu Komputer')\n",
        "print('Status: Belum Menikah')\n",
        "print('Nim:20220040120')\n",
        "print('______________________________')"
      ]
    },
    {
      "cell_type": "code",
      "execution_count": 11,
      "metadata": {},
      "outputs": [
        {
          "name": "stdout",
          "output_type": "stream",
          "text": [
            "BIODATA\n",
            "Hai saya Rio Luigi Del Niery dari Sukabumi\n",
            "alamat saya di Cibolang Kaler Rt/Rw 18/04, saya lahir di  Sukabumi 23 Desember 2003\n",
            "saya berumur 18 dan sekarang sebagai Mahasiswa\n",
            "hobby saya  Badminton & Belajar Ilmu Komputer dan status saya masih Bujang\n",
            "tinggi saya 178cm dan nim saya 20220040113\n",
            "Terima Kasih\n"
          ]
        }
      ],
      "source": [
        "#BIODATA\n",
        "#TIPE OUTPUT\n",
        "nama = 'Rio Luigi Del Niery'\n",
        "asal = 'Sukabumi'\n",
        "alamat = 'Cibolang Kaler Rt/Rw 18/04'\n",
        "ttl = 'Sukabumi 23 Desember 2003'\n",
        "pekerjaan = 'Mahasiswa'\n",
        "umur = '18'\n",
        "hobby = ' Badminton & Belajar Ilmu Komputer'\n",
        "status = 'Bujang'\n",
        "tinggi = '178cm'\n",
        "nim = '20220040113'\n",
        "\n",
        "print ('BIODATA')\n",
        "print (f'Hai saya {nama} dari {asal}')\n",
        "print (f'alamat saya di {alamat}, saya lahir di  {ttl}')\n",
        "print (f'saya berumur {umur} dan sekarang sebagai {pekerjaan}')\n",
        "print (f'hobby saya {hobby} dan status saya masih {status}')\n",
        "print (f'tinggi saya {tinggi} dan nim saya {nim}')\n",
        "print ('Terima Kasih')"
      ]
    }
  ],
  "metadata": {
    "colab": {
      "collapsed_sections": [],
      "provenance": [],
      "toc_visible": true
    },
    "kernelspec": {
      "display_name": "Python 3.10.7 64-bit",
      "language": "python",
      "name": "python3"
    },
    "language_info": {
      "codemirror_mode": {
        "name": "ipython",
        "version": 3
      },
      "file_extension": ".py",
      "mimetype": "text/x-python",
      "name": "python",
      "nbconvert_exporter": "python",
      "pygments_lexer": "ipython3",
      "version": "3.10.7"
    },
    "vscode": {
      "interpreter": {
        "hash": "96792473f43756a53da32662260be1b29f69eb983da56045868f1e3e212ccb09"
      }
    }
  },
  "nbformat": 4,
  "nbformat_minor": 0
}
