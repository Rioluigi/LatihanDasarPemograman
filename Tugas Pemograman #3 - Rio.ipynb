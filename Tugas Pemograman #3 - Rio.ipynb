{
 "cells": [
  {
   "cell_type": "code",
   "execution_count": 5,
   "metadata": {},
   "outputs": [
    {
     "name": "stdout",
     "output_type": "stream",
     "text": [
      "2\n",
      "-100\n",
      "10\n"
     ]
    }
   ],
   "source": [
    "#Tipe integer\n",
    "print(2)\n",
    "print(-100)\n",
    "\n",
    "a = 10\n",
    "print(a)\n",
    "\n",
    "\n"
   ]
  },
  {
   "cell_type": "code",
   "execution_count": 7,
   "metadata": {},
   "outputs": [
    {
     "name": "stdout",
     "output_type": "stream",
     "text": [
      "1.0\n",
      "1.9\n",
      "2.8\n"
     ]
    },
    {
     "data": {
      "text/plain": [
       "float"
      ]
     },
     "execution_count": 7,
     "metadata": {},
     "output_type": "execute_result"
    }
   ],
   "source": [
    "#Tipe data float\n",
    "print(1.0)\n",
    "print(1.9)\n",
    "\n",
    "num=(2.8)\n",
    "print(num)\n",
    "\n",
    "type(num)"
   ]
  },
  {
   "cell_type": "code",
   "execution_count": 9,
   "metadata": {},
   "outputs": [
    {
     "name": "stdout",
     "output_type": "stream",
     "text": [
      "Rio Luigi Del Niery\n",
      "310816\n"
     ]
    },
    {
     "data": {
      "text/plain": [
       "str"
      ]
     },
     "execution_count": 9,
     "metadata": {},
     "output_type": "execute_result"
    }
   ],
   "source": [
    "#Tipe Data String\n",
    "print(\"Rio Luigi Del Niery\")\n",
    "\n",
    "a = \"310816\"\n",
    "print(a)\n",
    "\n",
    "type(a)\n"
   ]
  },
  {
   "cell_type": "code",
   "execution_count": 10,
   "metadata": {},
   "outputs": [
    {
     "name": "stdout",
     "output_type": "stream",
     "text": [
      "Rio Luigi Del Niery\n",
      "True\n",
      "False\n"
     ]
    }
   ],
   "source": [
    "#Tipe Data Boolean\n",
    "print(\"Rio Luigi Del Niery\")\n",
    "print(True)\n",
    "print(False)"
   ]
  },
  {
   "cell_type": "code",
   "execution_count": 11,
   "metadata": {},
   "outputs": [
    {
     "name": "stdout",
     "output_type": "stream",
     "text": [
      "a: 1\n",
      "b: 2\n",
      "c: Mantap\n"
     ]
    }
   ],
   "source": [
    "a, b, c, = 1, 2, \"Mantap\"\n",
    "\n",
    "print('a:', a)\n",
    "print('b:', b)\n",
    "print('c:', c)\n"
   ]
  },
  {
   "cell_type": "code",
   "execution_count": 16,
   "metadata": {},
   "outputs": [
    {
     "name": "stdout",
     "output_type": "stream",
     "text": [
      "nama: Rio Luigi Del Niery\n",
      "nim: 20220040120\n",
      "no telepon: 089648131919\n"
     ]
    }
   ],
   "source": [
    "nama = 'Rio Luigi Del Niery'\n",
    "nim = 20220040120\n",
    "no_telepon = '089648131919'\n",
    "\n",
    "print('nama:', nama)\n",
    "print('nim:', nim)\n",
    "print('no telepon:', no_telepon)"
   ]
  },
  {
   "cell_type": "code",
   "execution_count": 15,
   "metadata": {},
   "outputs": [
    {
     "name": "stdout",
     "output_type": "stream",
     "text": [
      "7800\n"
     ]
    }
   ],
   "source": [
    "a1 = 5000+500;\n",
    "b2 = 2000+500;\n",
    "c3 = 200;\n",
    "result = a1+b2-c3;\n",
    "print(result)"
   ]
  },
  {
   "cell_type": "code",
   "execution_count": 35,
   "metadata": {},
   "outputs": [
    {
     "name": "stdout",
     "output_type": "stream",
     "text": [
      "25.12\n",
      "200.96\n"
     ]
    }
   ],
   "source": [
    "#keliling Lingkaran\n",
    "\n",
    "d = float(input('masukan nilai diameter: '))\n",
    "r = float(input('masukan nilai jari-jari: '))\n",
    "\n",
    "phi = 3.14\n",
    "keliling = phi*d\n",
    "Luas = phi*r*r\n",
    "print(keliling)\n",
    "print(Luas)"
   ]
  },
  {
   "cell_type": "code",
   "execution_count": 38,
   "metadata": {},
   "outputs": [
    {
     "name": "stdout",
     "output_type": "stream",
     "text": [
      "125000\n"
     ]
    }
   ],
   "source": [
    "#Volume Kubus\n",
    "\n",
    "S = int(input('masukan nilai Sisi '))\n",
    "\n",
    "V = S*S*S\n",
    "print(V)"
   ]
  }
 ],
 "metadata": {
  "kernelspec": {
   "display_name": "Python 3.10.7 64-bit",
   "language": "python",
   "name": "python3"
  },
  "language_info": {
   "codemirror_mode": {
    "name": "ipython",
    "version": 3
   },
   "file_extension": ".py",
   "mimetype": "text/x-python",
   "name": "python",
   "nbconvert_exporter": "python",
   "pygments_lexer": "ipython3",
   "version": "3.10.7"
  },
  "orig_nbformat": 4,
  "vscode": {
   "interpreter": {
    "hash": "96792473f43756a53da32662260be1b29f69eb983da56045868f1e3e212ccb09"
   }
  }
 },
 "nbformat": 4,
 "nbformat_minor": 2
}
